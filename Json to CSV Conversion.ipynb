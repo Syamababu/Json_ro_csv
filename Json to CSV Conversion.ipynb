{
 "cells": [
  {
   "cell_type": "code",
   "execution_count": 1,
   "id": "24d48dba",
   "metadata": {},
   "outputs": [],
   "source": [
    "import os \n",
    "cwd = os.getcwd()\n",
    "from cherrypicker import CherryPicker\n",
    "import json\n",
    "import pandas as pd"
   ]
  },
  {
   "cell_type": "code",
   "execution_count": 2,
   "id": "96bcdee3",
   "metadata": {},
   "outputs": [
    {
     "data": {
      "text/plain": [
       "'C:\\\\Users\\\\syamababum.ASCENT\\\\Desktop\\\\Shyam\\\\AIML'"
      ]
     },
     "execution_count": 2,
     "metadata": {},
     "output_type": "execute_result"
    }
   ],
   "source": [
    "cwd"
   ]
  },
  {
   "cell_type": "markdown",
   "id": "8a21a0a2",
   "metadata": {},
   "source": [
    "# Method 1"
   ]
  },
  {
   "cell_type": "code",
   "execution_count": 3,
   "id": "29dea45f",
   "metadata": {},
   "outputs": [],
   "source": [
    "# import pandas as pd\n",
    "\n",
    "# # path = r\"C:\\Users\\syamababum.ASCENT\\Desktop\\python code\\store1\\data.json\"\n",
    "\n",
    "# with open('data2.json', encoding='utf-8') as inputfile:\n",
    "#     df = pd.read_json(inputfile)\n",
    "\n",
    "# # df.to_csv('csvfile.csv', encoding='utf-8', index=False)"
   ]
  },
  {
   "cell_type": "code",
   "execution_count": 4,
   "id": "b05a742d",
   "metadata": {},
   "outputs": [],
   "source": [
    "# df"
   ]
  },
  {
   "cell_type": "code",
   "execution_count": 5,
   "id": "8ed79501",
   "metadata": {},
   "outputs": [],
   "source": [
    "# path = r\"C:\\Users\\syamababum.ASCENT\\Desktop\\python code\\store1\\data.json\"\n",
    "# with open(path, encoding='utf-8') as inputfile:\n",
    "# #     df = pd.read_json(inputfile)"
   ]
  },
  {
   "cell_type": "code",
   "execution_count": 6,
   "id": "9f4b48bb",
   "metadata": {},
   "outputs": [],
   "source": [
    "# df"
   ]
  },
  {
   "cell_type": "markdown",
   "id": "d046e1cd",
   "metadata": {},
   "source": [
    "# Method 2"
   ]
  },
  {
   "cell_type": "code",
   "execution_count": 7,
   "id": "7b61d2c9",
   "metadata": {},
   "outputs": [],
   "source": [
    "# path = r\"C:\\Users\\syamababum.ASCENT\\Desktop\\python code\\store1\\data.json\"\n",
    "# df2 = pd.read_json(path)"
   ]
  },
  {
   "cell_type": "code",
   "execution_count": 8,
   "id": "737afa17",
   "metadata": {},
   "outputs": [],
   "source": [
    "# df2"
   ]
  },
  {
   "cell_type": "code",
   "execution_count": 9,
   "id": "9688dfd3",
   "metadata": {},
   "outputs": [],
   "source": [
    "# import os\n",
    "# arr = os.listdir()"
   ]
  },
  {
   "cell_type": "markdown",
   "id": "933fc973",
   "metadata": {},
   "source": [
    "# Method 3"
   ]
  },
  {
   "cell_type": "markdown",
   "id": "7910f0ce",
   "metadata": {},
   "source": [
    "## Use of json_normalize\n",
    "- using json_normalize we can easily make the complex nested dictionary to noraml columns and row"
   ]
  },
  {
   "cell_type": "code",
   "execution_count": 10,
   "id": "e7244ea7",
   "metadata": {},
   "outputs": [],
   "source": [
    "import pandas as pd\n",
    "from pathlib import Path\n",
    "import json\n",
    "# set path to file\n",
    "p = Path(r'C:\\Users\\syamababum.ASCENT\\Desktop\\python code\\store1\\data2.json')"
   ]
  },
  {
   "cell_type": "code",
   "execution_count": 11,
   "id": "1c2b8691",
   "metadata": {},
   "outputs": [],
   "source": [
    "# read json\n",
    "p = Path(r'C:\\Users\\syamababum.ASCENT\\Desktop\\python code\\store1\\data2.json')\n",
    "with p.open('r', encoding='utf-8') as f:\n",
    "    data = json.loads(f.read())\n",
    "df2 = pd.json_normalize(data)"
   ]
  },
  {
   "cell_type": "markdown",
   "id": "e053275c",
   "metadata": {},
   "source": [
    "### whole dataframe"
   ]
  },
  {
   "cell_type": "code",
   "execution_count": 12,
   "id": "22eed794",
   "metadata": {},
   "outputs": [
    {
     "data": {
      "text/html": [
       "<div>\n",
       "<style scoped>\n",
       "    .dataframe tbody tr th:only-of-type {\n",
       "        vertical-align: middle;\n",
       "    }\n",
       "\n",
       "    .dataframe tbody tr th {\n",
       "        vertical-align: top;\n",
       "    }\n",
       "\n",
       "    .dataframe thead th {\n",
       "        text-align: right;\n",
       "    }\n",
       "</style>\n",
       "<table border=\"1\" class=\"dataframe\">\n",
       "  <thead>\n",
       "    <tr style=\"text-align: right;\">\n",
       "      <th></th>\n",
       "      <th>id</th>\n",
       "      <th>customerId</th>\n",
       "      <th>controlNumber</th>\n",
       "      <th>status</th>\n",
       "      <th>statusCode</th>\n",
       "      <th>createdDate</th>\n",
       "      <th>updatedDate</th>\n",
       "      <th>expirationDate</th>\n",
       "      <th>fromDate</th>\n",
       "      <th>toDate</th>\n",
       "      <th>...</th>\n",
       "      <th>subscriber.lastName</th>\n",
       "      <th>subscriber.memberId</th>\n",
       "      <th>patient.firstName</th>\n",
       "      <th>patient.lastName</th>\n",
       "      <th>patient.birthDate</th>\n",
       "      <th>patient.gender</th>\n",
       "      <th>patient.genderCode</th>\n",
       "      <th>patient.accountNumber</th>\n",
       "      <th>patient.subscriberRelationship</th>\n",
       "      <th>patient.subscriberRelationshipCode</th>\n",
       "    </tr>\n",
       "  </thead>\n",
       "  <tbody>\n",
       "    <tr>\n",
       "      <th>0</th>\n",
       "      <td>-6085811870527085593</td>\n",
       "      <td>1470351</td>\n",
       "      <td>56613480198</td>\n",
       "      <td>Complete</td>\n",
       "      <td>4</td>\n",
       "      <td>2023-09-20T06:59:43.000+00:00</td>\n",
       "      <td>2023-09-20T06:59:43.000+00:00</td>\n",
       "      <td>2023-09-21T05:59:43.000+00:00</td>\n",
       "      <td>2023-07-18T04:00:00.000+00:00</td>\n",
       "      <td>2023-07-18T04:00:00.000+00:00</td>\n",
       "      <td>...</td>\n",
       "      <td>THEURER</td>\n",
       "      <td>ZGP839803181</td>\n",
       "      <td>ADRIANNA</td>\n",
       "      <td>THEURER</td>\n",
       "      <td>1975-03-31</td>\n",
       "      <td>Female</td>\n",
       "      <td>F</td>\n",
       "      <td>14012012605163</td>\n",
       "      <td>Self</td>\n",
       "      <td>18</td>\n",
       "    </tr>\n",
       "    <tr>\n",
       "      <th>1</th>\n",
       "      <td>-6085811870527085593</td>\n",
       "      <td>1470351</td>\n",
       "      <td>56613480198</td>\n",
       "      <td>Complete</td>\n",
       "      <td>4</td>\n",
       "      <td>2023-09-20T06:59:43.000+00:00</td>\n",
       "      <td>2023-09-20T06:59:43.000+00:00</td>\n",
       "      <td>2023-09-21T05:59:43.000+00:00</td>\n",
       "      <td>2023-07-18T04:00:00.000+00:00</td>\n",
       "      <td>2023-07-18T04:00:00.000+00:00</td>\n",
       "      <td>...</td>\n",
       "      <td>THEURER</td>\n",
       "      <td>ZGP839803181</td>\n",
       "      <td>ADRIANNA</td>\n",
       "      <td>THEURER</td>\n",
       "      <td>1975-03-31</td>\n",
       "      <td>Female</td>\n",
       "      <td>F</td>\n",
       "      <td>14012012605163</td>\n",
       "      <td>Self</td>\n",
       "      <td>18</td>\n",
       "    </tr>\n",
       "  </tbody>\n",
       "</table>\n",
       "<p>2 rows × 35 columns</p>\n",
       "</div>"
      ],
      "text/plain": [
       "                     id customerId controlNumber    status statusCode  \\\n",
       "0  -6085811870527085593    1470351   56613480198  Complete          4   \n",
       "1  -6085811870527085593    1470351   56613480198  Complete          4   \n",
       "\n",
       "                     createdDate                    updatedDate  \\\n",
       "0  2023-09-20T06:59:43.000+00:00  2023-09-20T06:59:43.000+00:00   \n",
       "1  2023-09-20T06:59:43.000+00:00  2023-09-20T06:59:43.000+00:00   \n",
       "\n",
       "                  expirationDate                       fromDate  \\\n",
       "0  2023-09-21T05:59:43.000+00:00  2023-07-18T04:00:00.000+00:00   \n",
       "1  2023-09-21T05:59:43.000+00:00  2023-07-18T04:00:00.000+00:00   \n",
       "\n",
       "                          toDate  ... subscriber.lastName subscriber.memberId  \\\n",
       "0  2023-07-18T04:00:00.000+00:00  ...             THEURER        ZGP839803181   \n",
       "1  2023-07-18T04:00:00.000+00:00  ...             THEURER        ZGP839803181   \n",
       "\n",
       "  patient.firstName patient.lastName patient.birthDate patient.gender  \\\n",
       "0          ADRIANNA          THEURER        1975-03-31         Female   \n",
       "1          ADRIANNA          THEURER        1975-03-31         Female   \n",
       "\n",
       "  patient.genderCode patient.accountNumber patient.subscriberRelationship  \\\n",
       "0                  F        14012012605163                           Self   \n",
       "1                  F        14012012605163                           Self   \n",
       "\n",
       "  patient.subscriberRelationshipCode  \n",
       "0                                 18  \n",
       "1                                 18  \n",
       "\n",
       "[2 rows x 35 columns]"
      ]
     },
     "execution_count": 12,
     "metadata": {},
     "output_type": "execute_result"
    }
   ],
   "source": [
    "df2"
   ]
  },
  {
   "cell_type": "markdown",
   "id": "f90cae24",
   "metadata": {},
   "source": [
    "# code"
   ]
  },
  {
   "cell_type": "code",
   "execution_count": 13,
   "id": "66559e1a",
   "metadata": {},
   "outputs": [],
   "source": [
    "with open('data.json') as file:\n",
    "    data = json.load(file)\n",
    "### entire table \n",
    "entire_df = pd.json_normalize(data,sep='_')\n",
    "entire_df.drop(['providers', 'claimStatuses'], axis=1,inplace=True)\n",
    "### claimStatuses_df table\n",
    "picker = CherryPicker(data)\n",
    "flat = picker['claimStatuses'].flatten().get()\n",
    "claimStatuses_df = pd.DataFrame(flat)\n",
    "claimStatuses_df = claimStatuses_df.add_prefix('claimStatuses_')\n",
    "### Provider table\n",
    "flat = picker['providers'].flatten().get()\n",
    "provider_df= pd.DataFrame(flat)\n",
    "provider_df = provider_df.add_prefix('providers_')\n",
    "df1=pd.concat([entire_df,provider_df,claimStatuses_df], axis=1)"
   ]
  },
  {
   "cell_type": "code",
   "execution_count": 14,
   "id": "c2d733c5",
   "metadata": {},
   "outputs": [
    {
     "data": {
      "text/html": [
       "<div>\n",
       "<style scoped>\n",
       "    .dataframe tbody tr th:only-of-type {\n",
       "        vertical-align: middle;\n",
       "    }\n",
       "\n",
       "    .dataframe tbody tr th {\n",
       "        vertical-align: top;\n",
       "    }\n",
       "\n",
       "    .dataframe thead th {\n",
       "        text-align: right;\n",
       "    }\n",
       "</style>\n",
       "<table border=\"1\" class=\"dataframe\">\n",
       "  <thead>\n",
       "    <tr style=\"text-align: right;\">\n",
       "      <th></th>\n",
       "      <th>id</th>\n",
       "      <th>customerId</th>\n",
       "      <th>controlNumber</th>\n",
       "      <th>status</th>\n",
       "      <th>statusCode</th>\n",
       "      <th>createdDate</th>\n",
       "      <th>updatedDate</th>\n",
       "      <th>expirationDate</th>\n",
       "      <th>fromDate</th>\n",
       "      <th>toDate</th>\n",
       "      <th>...</th>\n",
       "      <th>claimStatuses_toDate</th>\n",
       "      <th>claimStatuses_statusDetails_0_category</th>\n",
       "      <th>claimStatuses_statusDetails_0_categoryCode</th>\n",
       "      <th>claimStatuses_statusDetails_0_status</th>\n",
       "      <th>claimStatuses_statusDetails_0_statusCode</th>\n",
       "      <th>claimStatuses_statusDetails_0_effectiveDate</th>\n",
       "      <th>claimStatuses_statusDetails_0_claimAmount</th>\n",
       "      <th>claimStatuses_statusDetails_0_claimAmountUnits</th>\n",
       "      <th>claimStatuses_statusDetails_0_paymentAmount</th>\n",
       "      <th>claimStatuses_statusDetails_0_paymentAmountUnits</th>\n",
       "    </tr>\n",
       "  </thead>\n",
       "  <tbody>\n",
       "    <tr>\n",
       "      <th>0</th>\n",
       "      <td>-5587797717281568231</td>\n",
       "      <td>1470351</td>\n",
       "      <td>56613374966</td>\n",
       "      <td>Complete</td>\n",
       "      <td>4</td>\n",
       "      <td>2023-09-20T06:51:58.000+00:00</td>\n",
       "      <td>2023-09-20T06:51:58.000+00:00</td>\n",
       "      <td>2023-09-21T05:51:58.000+00:00</td>\n",
       "      <td>2023-08-16T04:00:00.000+00:00</td>\n",
       "      <td>2023-08-16T04:00:00.000+00:00</td>\n",
       "      <td>...</td>\n",
       "      <td>2023-08-16</td>\n",
       "      <td>Response not possible - error on submitted req...</td>\n",
       "      <td>E0</td>\n",
       "      <td>Entity not approved as an electronic submitter</td>\n",
       "      <td>24</td>\n",
       "      <td>2023-09-20</td>\n",
       "      <td>230</td>\n",
       "      <td>USD</td>\n",
       "      <td>0</td>\n",
       "      <td>USD</td>\n",
       "    </tr>\n",
       "  </tbody>\n",
       "</table>\n",
       "<p>1 rows × 49 columns</p>\n",
       "</div>"
      ],
      "text/plain": [
       "                     id customerId controlNumber    status statusCode  \\\n",
       "0  -5587797717281568231    1470351   56613374966  Complete          4   \n",
       "\n",
       "                     createdDate                    updatedDate  \\\n",
       "0  2023-09-20T06:51:58.000+00:00  2023-09-20T06:51:58.000+00:00   \n",
       "\n",
       "                  expirationDate                       fromDate  \\\n",
       "0  2023-09-21T05:51:58.000+00:00  2023-08-16T04:00:00.000+00:00   \n",
       "\n",
       "                          toDate  ... claimStatuses_toDate  \\\n",
       "0  2023-08-16T04:00:00.000+00:00  ...           2023-08-16   \n",
       "\n",
       "              claimStatuses_statusDetails_0_category  \\\n",
       "0  Response not possible - error on submitted req...   \n",
       "\n",
       "  claimStatuses_statusDetails_0_categoryCode  \\\n",
       "0                                         E0   \n",
       "\n",
       "             claimStatuses_statusDetails_0_status  \\\n",
       "0  Entity not approved as an electronic submitter   \n",
       "\n",
       "  claimStatuses_statusDetails_0_statusCode  \\\n",
       "0                                       24   \n",
       "\n",
       "  claimStatuses_statusDetails_0_effectiveDate  \\\n",
       "0                                  2023-09-20   \n",
       "\n",
       "  claimStatuses_statusDetails_0_claimAmount  \\\n",
       "0                                       230   \n",
       "\n",
       "  claimStatuses_statusDetails_0_claimAmountUnits  \\\n",
       "0                                            USD   \n",
       "\n",
       "  claimStatuses_statusDetails_0_paymentAmount  \\\n",
       "0                                           0   \n",
       "\n",
       "  claimStatuses_statusDetails_0_paymentAmountUnits  \n",
       "0                                              USD  \n",
       "\n",
       "[1 rows x 49 columns]"
      ]
     },
     "execution_count": 14,
     "metadata": {},
     "output_type": "execute_result"
    }
   ],
   "source": [
    "df1"
   ]
  },
  {
   "cell_type": "code",
   "execution_count": 15,
   "id": "e0047268",
   "metadata": {},
   "outputs": [],
   "source": [
    "def myfunc(file):\n",
    "    with open('data2.json') as file:\n",
    "        data = json.load(file)\n",
    "    ### entire table \n",
    "    entire_df = pd.json_normalize(data,sep='_')\n",
    "    entire_df.drop(['providers', 'claimStatuses'], axis=1,inplace=True)\n",
    "    ### claimStatuses_df table\n",
    "    picker = CherryPicker(data)\n",
    "    flat = picker['claimStatuses'].flatten().get()\n",
    "    claimStatuses_df = pd.DataFrame(flat)\n",
    "    claimStatuses_df = claimStatuses_df.add_prefix('claimStatuses_')\n",
    "    ### Provider table\n",
    "    flat = picker['providers'].flatten().get()\n",
    "    provider_df= pd.DataFrame(flat)\n",
    "    provider_df = provider_df.add_prefix('providers_')\n",
    "    df2=pd.concat([entire_df,provider_df,claimStatuses_df], axis=1)\n",
    "    trans_df=df2.T\n",
    "    trans_df.columns=[\"record_1\"]\n",
    "    return trans_df"
   ]
  },
  {
   "cell_type": "markdown",
   "id": "fabfb173",
   "metadata": {},
   "source": [
    "# CherryPicker >>>>>>\n",
    "- Using CherryPicker \n",
    "- which convert all the complex dictionary into a simple key value piars "
   ]
  },
  {
   "cell_type": "code",
   "execution_count": 16,
   "id": "3e23186d",
   "metadata": {},
   "outputs": [],
   "source": [
    "with open('new_json.json') as file:\n",
    "        data = json.load(file)\n",
    "picker = CherryPicker(data)\n",
    "flat = picker['payers'].flatten().get()\n",
    "claimStatuses_df = pd.DataFrame(flat)"
   ]
  },
  {
   "cell_type": "code",
   "execution_count": 17,
   "id": "ee0de5c0",
   "metadata": {},
   "outputs": [
    {
     "data": {
      "text/plain": [
       "['NAME',\n",
       " 'PAYERID',\n",
       " 'DISPLAYNAME',\n",
       " 'TRANSACTIONDESCRIPTION',\n",
       " 'SUBMISSIONMODE',\n",
       " 'EFFECTIVEDATE',\n",
       " 'AVAILABILITY',\n",
       " 'ENROLLMENTREQUIRED',\n",
       " 'REBATETIER',\n",
       " 'PASSTHROUGHRATE',\n",
       " 'GATEWAY',\n",
       " 'TRANSACTIONDESCRIPTION',\n",
       " 'SUBMISSIONMODE',\n",
       " 'EFFECTIVEDATE',\n",
       " 'AVAILABILITY',\n",
       " 'ENROLLMENTREQUIRED',\n",
       " 'TRANSACTIONDESCRIPTION',\n",
       " 'SUBMISSIONMODE',\n",
       " 'EFFECTIVEDATE',\n",
       " 'AVAILABILITY',\n",
       " 'ENROLLMENTREQUIRED',\n",
       " 'REBATETIER',\n",
       " 'PASSTHROUGHRATE',\n",
       " 'GATEWAY',\n",
       " 'SHORTNAME',\n",
       " 'REBATETIER',\n",
       " 'PASSTHROUGHRATE',\n",
       " 'TRANSACTIONDESCRIPTION',\n",
       " 'SUBMISSIONMODE',\n",
       " 'EFFECTIVEDATE',\n",
       " 'AVAILABILITY',\n",
       " 'ENROLLMENTREQUIRED',\n",
       " 'REBATETIER',\n",
       " 'PASSTHROUGHRATE',\n",
       " 'GATEWAY',\n",
       " 'NEWTIERNOTICE',\n",
       " 'TRANSACTIONDESCRIPTION',\n",
       " 'SUBMISSIONMODE',\n",
       " 'EFFECTIVEDATE',\n",
       " 'AVAILABILITY',\n",
       " 'ENROLLMENTREQUIRED',\n",
       " 'REBATETIER',\n",
       " 'PASSTHROUGHRATE',\n",
       " 'TRANSACTIONDESCRIPTION',\n",
       " 'SUBMISSIONMODE',\n",
       " 'EFFECTIVEDATE',\n",
       " 'AVAILABILITY',\n",
       " 'ENROLLMENTREQUIRED',\n",
       " 'REBATETIER',\n",
       " 'PASSTHROUGHRATE',\n",
       " 'NEWTIERNOTICE',\n",
       " 'GATEWAY',\n",
       " 'TRANSACTIONDESCRIPTION',\n",
       " 'SUBMISSIONMODE',\n",
       " 'EFFECTIVEDATE',\n",
       " 'AVAILABILITY',\n",
       " 'ENROLLMENTREQUIRED',\n",
       " 'REBATETIER',\n",
       " 'PASSTHROUGHRATE',\n",
       " 'NEWTIERNOTICE',\n",
       " 'GATEWAY',\n",
       " 'GATEWAY',\n",
       " 'NEWTIERNOTICE',\n",
       " 'TRANSACTIONDESCRIPTION',\n",
       " 'SUBMISSIONMODE',\n",
       " 'EFFECTIVEDATE',\n",
       " 'AVAILABILITY',\n",
       " 'ENROLLMENTREQUIRED',\n",
       " 'NEWTIERNOTICE',\n",
       " 'NEWTIERNOTICE',\n",
       " 'GATEWAY',\n",
       " 'TRANSACTIONDESCRIPTION',\n",
       " 'SUBMISSIONMODE',\n",
       " 'EFFECTIVEDATE',\n",
       " 'AVAILABILITY',\n",
       " 'ENROLLMENTREQUIRED',\n",
       " 'REBATETIER',\n",
       " 'PASSTHROUGHRATE',\n",
       " 'GATEWAY',\n",
       " 'TRANSACTIONDESCRIPTION',\n",
       " 'SUBMISSIONMODE',\n",
       " 'EFFECTIVEDATE',\n",
       " 'AVAILABILITY',\n",
       " 'ENROLLMENTREQUIRED',\n",
       " 'REBATETIER',\n",
       " 'PASSTHROUGHRATE',\n",
       " 'GATEWAY',\n",
       " 'TRANSACTIONDESCRIPTION',\n",
       " 'SUBMISSIONMODE',\n",
       " 'EFFECTIVEDATE',\n",
       " 'AVAILABILITY',\n",
       " 'ENROLLMENTREQUIRED',\n",
       " 'REBATETIER',\n",
       " 'PASSTHROUGHRATE',\n",
       " 'NEWTIERNOTICE',\n",
       " 'GATEWAY',\n",
       " 'TRANSACTIONDESCRIPTION',\n",
       " 'SUBMISSIONMODE',\n",
       " 'EFFECTIVEDATE',\n",
       " 'AVAILABILITY',\n",
       " 'ENROLLMENTREQUIRED',\n",
       " 'REBATETIER',\n",
       " 'PASSTHROUGHRATE',\n",
       " 'GATEWAY',\n",
       " 'TRANSACTIONDESCRIPTION',\n",
       " 'SUBMISSIONMODE',\n",
       " 'EFFECTIVEDATE',\n",
       " 'AVAILABILITY',\n",
       " 'ENROLLMENTREQUIRED',\n",
       " 'TRANSACTIONDESCRIPTION',\n",
       " 'SUBMISSIONMODE',\n",
       " 'EFFECTIVEDATE',\n",
       " 'AVAILABILITY',\n",
       " 'ENROLLMENTREQUIRED']"
      ]
     },
     "execution_count": 17,
     "metadata": {},
     "output_type": "execute_result"
    }
   ],
   "source": [
    "d=[]\n",
    "for i in claimStatuses_df.columns:\n",
    "    re=i.split('_')[-1]\n",
    "    d.append(re.upper())\n",
    "d"
   ]
  },
  {
   "cell_type": "code",
   "execution_count": 18,
   "id": "16592a7b",
   "metadata": {},
   "outputs": [],
   "source": [
    "claimStatuses_df.columns=d"
   ]
  },
  {
   "cell_type": "code",
   "execution_count": 19,
   "id": "4464aaa9",
   "metadata": {},
   "outputs": [],
   "source": [
    "claimStatuses_df.to_csv('result_data.csv')"
   ]
  },
  {
   "cell_type": "code",
   "execution_count": 20,
   "id": "0e26ba9c",
   "metadata": {},
   "outputs": [],
   "source": [
    "newtrans_df=claimStatuses_df.T"
   ]
  },
  {
   "cell_type": "code",
   "execution_count": 21,
   "id": "b432725c",
   "metadata": {},
   "outputs": [],
   "source": [
    "newtrans_df.to_csv('new_json_output02.csv')"
   ]
  },
  {
   "cell_type": "markdown",
   "id": "6e593104",
   "metadata": {},
   "source": [
    "### CherryPicker code end here=>>>>>>>"
   ]
  },
  {
   "cell_type": "code",
   "execution_count": 22,
   "id": "498e5415",
   "metadata": {},
   "outputs": [],
   "source": [
    "with open('data2.json') as file:\n",
    "    \n",
    "    data = json.load(file)\n",
    "### entire table \n",
    "entire_df = pd.json_normalize(data,sep='_')\n",
    "entire_df.drop(['providers', 'claimStatuses'], axis=1,inplace=True)\n",
    "### claimStatuses_df table\n",
    "picker = CherryPicker(data)\n",
    "flat = picker['claimStatuses'].flatten().get()\n",
    "claimStatuses_df = pd.DataFrame(flat)\n",
    "claimStatuses_df = claimStatuses_df.add_prefix('claimStatuses_')\n",
    "### Provider table\n",
    "flat = picker['providers'].flatten().get()\n",
    "provider_df= pd.DataFrame(flat)\n",
    "provider_df = provider_df.add_prefix('providers_')\n",
    "df2=pd.concat([entire_df,provider_df,claimStatuses_df], axis=1)"
   ]
  },
  {
   "cell_type": "code",
   "execution_count": 23,
   "id": "221962b3",
   "metadata": {},
   "outputs": [
    {
     "data": {
      "text/html": [
       "<div>\n",
       "<style scoped>\n",
       "    .dataframe tbody tr th:only-of-type {\n",
       "        vertical-align: middle;\n",
       "    }\n",
       "\n",
       "    .dataframe tbody tr th {\n",
       "        vertical-align: top;\n",
       "    }\n",
       "\n",
       "    .dataframe thead th {\n",
       "        text-align: right;\n",
       "    }\n",
       "</style>\n",
       "<table border=\"1\" class=\"dataframe\">\n",
       "  <thead>\n",
       "    <tr style=\"text-align: right;\">\n",
       "      <th></th>\n",
       "      <th>id</th>\n",
       "      <th>customerId</th>\n",
       "      <th>controlNumber</th>\n",
       "      <th>status</th>\n",
       "      <th>statusCode</th>\n",
       "      <th>createdDate</th>\n",
       "      <th>updatedDate</th>\n",
       "      <th>expirationDate</th>\n",
       "      <th>fromDate</th>\n",
       "      <th>toDate</th>\n",
       "      <th>...</th>\n",
       "      <th>claimStatuses_toDate</th>\n",
       "      <th>claimStatuses_statusDetails_0_category</th>\n",
       "      <th>claimStatuses_statusDetails_0_categoryCode</th>\n",
       "      <th>claimStatuses_statusDetails_0_status</th>\n",
       "      <th>claimStatuses_statusDetails_0_statusCode</th>\n",
       "      <th>claimStatuses_statusDetails_0_effectiveDate</th>\n",
       "      <th>claimStatuses_statusDetails_0_claimAmount</th>\n",
       "      <th>claimStatuses_statusDetails_0_claimAmountUnits</th>\n",
       "      <th>claimStatuses_statusDetails_0_paymentAmount</th>\n",
       "      <th>claimStatuses_statusDetails_0_paymentAmountUnits</th>\n",
       "    </tr>\n",
       "  </thead>\n",
       "  <tbody>\n",
       "    <tr>\n",
       "      <th>0</th>\n",
       "      <td>-6085811870527085593</td>\n",
       "      <td>1470351</td>\n",
       "      <td>56613480198</td>\n",
       "      <td>Complete</td>\n",
       "      <td>4</td>\n",
       "      <td>2023-09-20T06:59:43.000+00:00</td>\n",
       "      <td>2023-09-20T06:59:43.000+00:00</td>\n",
       "      <td>2023-09-21T05:59:43.000+00:00</td>\n",
       "      <td>2023-07-18T04:00:00.000+00:00</td>\n",
       "      <td>2023-07-18T04:00:00.000+00:00</td>\n",
       "      <td>...</td>\n",
       "      <td>2023-07-18</td>\n",
       "      <td>Response not possible - error on submitted req...</td>\n",
       "      <td>E0</td>\n",
       "      <td>Entity not approved as an electronic submitter</td>\n",
       "      <td>24</td>\n",
       "      <td>2023-09-20</td>\n",
       "      <td>330</td>\n",
       "      <td>USD</td>\n",
       "      <td>0</td>\n",
       "      <td>USD</td>\n",
       "    </tr>\n",
       "  </tbody>\n",
       "</table>\n",
       "<p>1 rows × 49 columns</p>\n",
       "</div>"
      ],
      "text/plain": [
       "                     id customerId controlNumber    status statusCode  \\\n",
       "0  -6085811870527085593    1470351   56613480198  Complete          4   \n",
       "\n",
       "                     createdDate                    updatedDate  \\\n",
       "0  2023-09-20T06:59:43.000+00:00  2023-09-20T06:59:43.000+00:00   \n",
       "\n",
       "                  expirationDate                       fromDate  \\\n",
       "0  2023-09-21T05:59:43.000+00:00  2023-07-18T04:00:00.000+00:00   \n",
       "\n",
       "                          toDate  ... claimStatuses_toDate  \\\n",
       "0  2023-07-18T04:00:00.000+00:00  ...           2023-07-18   \n",
       "\n",
       "              claimStatuses_statusDetails_0_category  \\\n",
       "0  Response not possible - error on submitted req...   \n",
       "\n",
       "  claimStatuses_statusDetails_0_categoryCode  \\\n",
       "0                                         E0   \n",
       "\n",
       "             claimStatuses_statusDetails_0_status  \\\n",
       "0  Entity not approved as an electronic submitter   \n",
       "\n",
       "  claimStatuses_statusDetails_0_statusCode  \\\n",
       "0                                       24   \n",
       "\n",
       "  claimStatuses_statusDetails_0_effectiveDate  \\\n",
       "0                                  2023-09-20   \n",
       "\n",
       "  claimStatuses_statusDetails_0_claimAmount  \\\n",
       "0                                       330   \n",
       "\n",
       "  claimStatuses_statusDetails_0_claimAmountUnits  \\\n",
       "0                                            USD   \n",
       "\n",
       "  claimStatuses_statusDetails_0_paymentAmount  \\\n",
       "0                                           0   \n",
       "\n",
       "  claimStatuses_statusDetails_0_paymentAmountUnits  \n",
       "0                                              USD  \n",
       "\n",
       "[1 rows x 49 columns]"
      ]
     },
     "execution_count": 23,
     "metadata": {},
     "output_type": "execute_result"
    }
   ],
   "source": [
    "df2"
   ]
  },
  {
   "cell_type": "code",
   "execution_count": 24,
   "id": "83660551",
   "metadata": {},
   "outputs": [
    {
     "name": "stderr",
     "output_type": "stream",
     "text": [
      "C:\\Users\\syamababum.ASCENT\\AppData\\Local\\Temp\\ipykernel_31720\\3416078118.py:1: FutureWarning: The frame.append method is deprecated and will be removed from pandas in a future version. Use pandas.concat instead.\n",
      "  result = df1.append(df2)\n"
     ]
    }
   ],
   "source": [
    "result = df1.append(df2)"
   ]
  },
  {
   "cell_type": "code",
   "execution_count": 25,
   "id": "db5df078",
   "metadata": {},
   "outputs": [],
   "source": [
    "result.to_csv('result2.csv')"
   ]
  },
  {
   "cell_type": "code",
   "execution_count": null,
   "id": "4121fa25",
   "metadata": {},
   "outputs": [],
   "source": []
  },
  {
   "cell_type": "code",
   "execution_count": 26,
   "id": "15668abe",
   "metadata": {},
   "outputs": [],
   "source": [
    "trans_df=result.T"
   ]
  },
  {
   "cell_type": "code",
   "execution_count": 27,
   "id": "de2ef7aa",
   "metadata": {},
   "outputs": [],
   "source": [
    "trans_df.columns=[\"record_1\",\"record_2\"]"
   ]
  },
  {
   "cell_type": "code",
   "execution_count": 28,
   "id": "e9e028c3",
   "metadata": {},
   "outputs": [],
   "source": [
    "trans_df.to_csv('output.csv')"
   ]
  },
  {
   "cell_type": "markdown",
   "id": "25f26fda",
   "metadata": {},
   "source": [
    "### for another nested"
   ]
  },
  {
   "cell_type": "code",
   "execution_count": 29,
   "id": "e24a2695",
   "metadata": {},
   "outputs": [
    {
     "data": {
      "text/plain": [
       "Index(['id', 'customerId', 'controlNumber', 'status', 'statusCode',\n",
       "       'createdDate', 'updatedDate', 'expirationDate', 'fromDate', 'toDate',\n",
       "       'claimAmount', 'facilityTypeCode', 'facilityType', 'frequencyTypeCode',\n",
       "       'frequencyType', 'availityTransactionId', 'providers', 'claimStatuses',\n",
       "       'claimCount', 'payer_id', 'payer_name', 'submitter_lastName',\n",
       "       'submitter_firstName', 'submitter_id', 'subscriber_firstName',\n",
       "       'subscriber_lastName', 'subscriber_memberId', 'patient_firstName',\n",
       "       'patient_lastName', 'patient_birthDate', 'patient_gender',\n",
       "       'patient_genderCode', 'patient_accountNumber',\n",
       "       'patient_subscriberRelationship', 'patient_subscriberRelationshipCode'],\n",
       "      dtype='object')"
      ]
     },
     "execution_count": 29,
     "metadata": {},
     "output_type": "execute_result"
    }
   ],
   "source": [
    "with open('data2.json') as file:\n",
    "    data = json.load(file)\n",
    "entire_df = pd.json_normalize(data,sep='_')\n",
    "entire_df.columns"
   ]
  },
  {
   "cell_type": "markdown",
   "id": "9984ad23",
   "metadata": {},
   "source": [
    "#### entire data"
   ]
  },
  {
   "cell_type": "code",
   "execution_count": 30,
   "id": "c52cfd2b",
   "metadata": {},
   "outputs": [
    {
     "data": {
      "text/html": [
       "<div>\n",
       "<style scoped>\n",
       "    .dataframe tbody tr th:only-of-type {\n",
       "        vertical-align: middle;\n",
       "    }\n",
       "\n",
       "    .dataframe tbody tr th {\n",
       "        vertical-align: top;\n",
       "    }\n",
       "\n",
       "    .dataframe thead th {\n",
       "        text-align: right;\n",
       "    }\n",
       "</style>\n",
       "<table border=\"1\" class=\"dataframe\">\n",
       "  <thead>\n",
       "    <tr style=\"text-align: right;\">\n",
       "      <th></th>\n",
       "      <th>id</th>\n",
       "      <th>customerId</th>\n",
       "      <th>controlNumber</th>\n",
       "      <th>status</th>\n",
       "      <th>statusCode</th>\n",
       "      <th>createdDate</th>\n",
       "      <th>updatedDate</th>\n",
       "      <th>expirationDate</th>\n",
       "      <th>fromDate</th>\n",
       "      <th>toDate</th>\n",
       "      <th>...</th>\n",
       "      <th>subscriber_lastName</th>\n",
       "      <th>subscriber_memberId</th>\n",
       "      <th>patient_firstName</th>\n",
       "      <th>patient_lastName</th>\n",
       "      <th>patient_birthDate</th>\n",
       "      <th>patient_gender</th>\n",
       "      <th>patient_genderCode</th>\n",
       "      <th>patient_accountNumber</th>\n",
       "      <th>patient_subscriberRelationship</th>\n",
       "      <th>patient_subscriberRelationshipCode</th>\n",
       "    </tr>\n",
       "  </thead>\n",
       "  <tbody>\n",
       "    <tr>\n",
       "      <th>0</th>\n",
       "      <td>-6085811870527085593</td>\n",
       "      <td>1470351</td>\n",
       "      <td>56613480198</td>\n",
       "      <td>Complete</td>\n",
       "      <td>4</td>\n",
       "      <td>2023-09-20T06:59:43.000+00:00</td>\n",
       "      <td>2023-09-20T06:59:43.000+00:00</td>\n",
       "      <td>2023-09-21T05:59:43.000+00:00</td>\n",
       "      <td>2023-07-18T04:00:00.000+00:00</td>\n",
       "      <td>2023-07-18T04:00:00.000+00:00</td>\n",
       "      <td>...</td>\n",
       "      <td>THEURER</td>\n",
       "      <td>ZGP839803181</td>\n",
       "      <td>ADRIANNA</td>\n",
       "      <td>THEURER</td>\n",
       "      <td>1975-03-31</td>\n",
       "      <td>Female</td>\n",
       "      <td>F</td>\n",
       "      <td>14012012605163</td>\n",
       "      <td>Self</td>\n",
       "      <td>18</td>\n",
       "    </tr>\n",
       "  </tbody>\n",
       "</table>\n",
       "<p>1 rows × 35 columns</p>\n",
       "</div>"
      ],
      "text/plain": [
       "                     id customerId controlNumber    status statusCode  \\\n",
       "0  -6085811870527085593    1470351   56613480198  Complete          4   \n",
       "\n",
       "                     createdDate                    updatedDate  \\\n",
       "0  2023-09-20T06:59:43.000+00:00  2023-09-20T06:59:43.000+00:00   \n",
       "\n",
       "                  expirationDate                       fromDate  \\\n",
       "0  2023-09-21T05:59:43.000+00:00  2023-07-18T04:00:00.000+00:00   \n",
       "\n",
       "                          toDate  ... subscriber_lastName subscriber_memberId  \\\n",
       "0  2023-07-18T04:00:00.000+00:00  ...             THEURER        ZGP839803181   \n",
       "\n",
       "  patient_firstName patient_lastName patient_birthDate patient_gender  \\\n",
       "0          ADRIANNA          THEURER        1975-03-31         Female   \n",
       "\n",
       "  patient_genderCode patient_accountNumber patient_subscriberRelationship  \\\n",
       "0                  F        14012012605163                           Self   \n",
       "\n",
       "  patient_subscriberRelationshipCode  \n",
       "0                                 18  \n",
       "\n",
       "[1 rows x 35 columns]"
      ]
     },
     "execution_count": 30,
     "metadata": {},
     "output_type": "execute_result"
    }
   ],
   "source": [
    "entire_df"
   ]
  },
  {
   "cell_type": "code",
   "execution_count": 31,
   "id": "1e4c99b7",
   "metadata": {},
   "outputs": [],
   "source": [
    "# entire_df.drop(entire_df.columns[[0, 4, 2]], axis=1, inplace=True)\n",
    "entire_df.drop(['providers', 'claimStatuses'], axis=1,inplace=True)\n"
   ]
  },
  {
   "cell_type": "code",
   "execution_count": 32,
   "id": "e55eec9f",
   "metadata": {},
   "outputs": [
    {
     "data": {
      "text/html": [
       "<div>\n",
       "<style scoped>\n",
       "    .dataframe tbody tr th:only-of-type {\n",
       "        vertical-align: middle;\n",
       "    }\n",
       "\n",
       "    .dataframe tbody tr th {\n",
       "        vertical-align: top;\n",
       "    }\n",
       "\n",
       "    .dataframe thead th {\n",
       "        text-align: right;\n",
       "    }\n",
       "</style>\n",
       "<table border=\"1\" class=\"dataframe\">\n",
       "  <thead>\n",
       "    <tr style=\"text-align: right;\">\n",
       "      <th></th>\n",
       "      <th>id</th>\n",
       "      <th>customerId</th>\n",
       "      <th>controlNumber</th>\n",
       "      <th>status</th>\n",
       "      <th>statusCode</th>\n",
       "      <th>createdDate</th>\n",
       "      <th>updatedDate</th>\n",
       "      <th>expirationDate</th>\n",
       "      <th>fromDate</th>\n",
       "      <th>toDate</th>\n",
       "      <th>...</th>\n",
       "      <th>subscriber_lastName</th>\n",
       "      <th>subscriber_memberId</th>\n",
       "      <th>patient_firstName</th>\n",
       "      <th>patient_lastName</th>\n",
       "      <th>patient_birthDate</th>\n",
       "      <th>patient_gender</th>\n",
       "      <th>patient_genderCode</th>\n",
       "      <th>patient_accountNumber</th>\n",
       "      <th>patient_subscriberRelationship</th>\n",
       "      <th>patient_subscriberRelationshipCode</th>\n",
       "    </tr>\n",
       "  </thead>\n",
       "  <tbody>\n",
       "    <tr>\n",
       "      <th>0</th>\n",
       "      <td>-6085811870527085593</td>\n",
       "      <td>1470351</td>\n",
       "      <td>56613480198</td>\n",
       "      <td>Complete</td>\n",
       "      <td>4</td>\n",
       "      <td>2023-09-20T06:59:43.000+00:00</td>\n",
       "      <td>2023-09-20T06:59:43.000+00:00</td>\n",
       "      <td>2023-09-21T05:59:43.000+00:00</td>\n",
       "      <td>2023-07-18T04:00:00.000+00:00</td>\n",
       "      <td>2023-07-18T04:00:00.000+00:00</td>\n",
       "      <td>...</td>\n",
       "      <td>THEURER</td>\n",
       "      <td>ZGP839803181</td>\n",
       "      <td>ADRIANNA</td>\n",
       "      <td>THEURER</td>\n",
       "      <td>1975-03-31</td>\n",
       "      <td>Female</td>\n",
       "      <td>F</td>\n",
       "      <td>14012012605163</td>\n",
       "      <td>Self</td>\n",
       "      <td>18</td>\n",
       "    </tr>\n",
       "  </tbody>\n",
       "</table>\n",
       "<p>1 rows × 33 columns</p>\n",
       "</div>"
      ],
      "text/plain": [
       "                     id customerId controlNumber    status statusCode  \\\n",
       "0  -6085811870527085593    1470351   56613480198  Complete          4   \n",
       "\n",
       "                     createdDate                    updatedDate  \\\n",
       "0  2023-09-20T06:59:43.000+00:00  2023-09-20T06:59:43.000+00:00   \n",
       "\n",
       "                  expirationDate                       fromDate  \\\n",
       "0  2023-09-21T05:59:43.000+00:00  2023-07-18T04:00:00.000+00:00   \n",
       "\n",
       "                          toDate  ... subscriber_lastName subscriber_memberId  \\\n",
       "0  2023-07-18T04:00:00.000+00:00  ...             THEURER        ZGP839803181   \n",
       "\n",
       "  patient_firstName patient_lastName patient_birthDate patient_gender  \\\n",
       "0          ADRIANNA          THEURER        1975-03-31         Female   \n",
       "\n",
       "  patient_genderCode patient_accountNumber patient_subscriberRelationship  \\\n",
       "0                  F        14012012605163                           Self   \n",
       "\n",
       "  patient_subscriberRelationshipCode  \n",
       "0                                 18  \n",
       "\n",
       "[1 rows x 33 columns]"
      ]
     },
     "execution_count": 32,
     "metadata": {},
     "output_type": "execute_result"
    }
   ],
   "source": [
    "entire_df"
   ]
  },
  {
   "cell_type": "markdown",
   "id": "47d077b0",
   "metadata": {},
   "source": [
    "### claimStatuses data"
   ]
  },
  {
   "cell_type": "code",
   "execution_count": 33,
   "id": "4e2f097c",
   "metadata": {},
   "outputs": [
    {
     "data": {
      "text/html": [
       "<div>\n",
       "<style scoped>\n",
       "    .dataframe tbody tr th:only-of-type {\n",
       "        vertical-align: middle;\n",
       "    }\n",
       "\n",
       "    .dataframe tbody tr th {\n",
       "        vertical-align: top;\n",
       "    }\n",
       "\n",
       "    .dataframe thead th {\n",
       "        text-align: right;\n",
       "    }\n",
       "</style>\n",
       "<table border=\"1\" class=\"dataframe\">\n",
       "  <thead>\n",
       "    <tr style=\"text-align: right;\">\n",
       "      <th></th>\n",
       "      <th>traceId</th>\n",
       "      <th>patientControlNumber</th>\n",
       "      <th>fromDate</th>\n",
       "      <th>toDate</th>\n",
       "      <th>statusDetails_0_category</th>\n",
       "      <th>statusDetails_0_categoryCode</th>\n",
       "      <th>statusDetails_0_status</th>\n",
       "      <th>statusDetails_0_statusCode</th>\n",
       "      <th>statusDetails_0_effectiveDate</th>\n",
       "      <th>statusDetails_0_claimAmount</th>\n",
       "      <th>statusDetails_0_claimAmountUnits</th>\n",
       "      <th>statusDetails_0_paymentAmount</th>\n",
       "      <th>statusDetails_0_paymentAmountUnits</th>\n",
       "    </tr>\n",
       "  </thead>\n",
       "  <tbody>\n",
       "    <tr>\n",
       "      <th>0</th>\n",
       "      <td>56613480198</td>\n",
       "      <td>14012012605163</td>\n",
       "      <td>2023-07-18</td>\n",
       "      <td>2023-07-18</td>\n",
       "      <td>Response not possible - error on submitted req...</td>\n",
       "      <td>E0</td>\n",
       "      <td>Entity not approved as an electronic submitter</td>\n",
       "      <td>24</td>\n",
       "      <td>2023-09-20</td>\n",
       "      <td>330</td>\n",
       "      <td>USD</td>\n",
       "      <td>0</td>\n",
       "      <td>USD</td>\n",
       "    </tr>\n",
       "  </tbody>\n",
       "</table>\n",
       "</div>"
      ],
      "text/plain": [
       "       traceId patientControlNumber    fromDate      toDate  \\\n",
       "0  56613480198       14012012605163  2023-07-18  2023-07-18   \n",
       "\n",
       "                            statusDetails_0_category  \\\n",
       "0  Response not possible - error on submitted req...   \n",
       "\n",
       "  statusDetails_0_categoryCode  \\\n",
       "0                           E0   \n",
       "\n",
       "                           statusDetails_0_status statusDetails_0_statusCode  \\\n",
       "0  Entity not approved as an electronic submitter                         24   \n",
       "\n",
       "  statusDetails_0_effectiveDate statusDetails_0_claimAmount  \\\n",
       "0                    2023-09-20                         330   \n",
       "\n",
       "  statusDetails_0_claimAmountUnits statusDetails_0_paymentAmount  \\\n",
       "0                              USD                             0   \n",
       "\n",
       "  statusDetails_0_paymentAmountUnits  \n",
       "0                                USD  "
      ]
     },
     "execution_count": 33,
     "metadata": {},
     "output_type": "execute_result"
    }
   ],
   "source": [
    "picker = CherryPicker(data)\n",
    "flat = picker['claimStatuses'].flatten().get()\n",
    "df = pd.DataFrame(flat)\n",
    "df.head()"
   ]
  },
  {
   "cell_type": "code",
   "execution_count": 34,
   "id": "4561100a",
   "metadata": {},
   "outputs": [],
   "source": [
    "df1 = df.add_prefix('claimStatuses_')"
   ]
  },
  {
   "cell_type": "markdown",
   "id": "e77fa54e",
   "metadata": {},
   "source": [
    "### table of claimStatuses_"
   ]
  },
  {
   "cell_type": "code",
   "execution_count": 35,
   "id": "84a0ea3f",
   "metadata": {},
   "outputs": [
    {
     "data": {
      "text/html": [
       "<div>\n",
       "<style scoped>\n",
       "    .dataframe tbody tr th:only-of-type {\n",
       "        vertical-align: middle;\n",
       "    }\n",
       "\n",
       "    .dataframe tbody tr th {\n",
       "        vertical-align: top;\n",
       "    }\n",
       "\n",
       "    .dataframe thead th {\n",
       "        text-align: right;\n",
       "    }\n",
       "</style>\n",
       "<table border=\"1\" class=\"dataframe\">\n",
       "  <thead>\n",
       "    <tr style=\"text-align: right;\">\n",
       "      <th></th>\n",
       "      <th>claimStatuses_traceId</th>\n",
       "      <th>claimStatuses_patientControlNumber</th>\n",
       "      <th>claimStatuses_fromDate</th>\n",
       "      <th>claimStatuses_toDate</th>\n",
       "      <th>claimStatuses_statusDetails_0_category</th>\n",
       "      <th>claimStatuses_statusDetails_0_categoryCode</th>\n",
       "      <th>claimStatuses_statusDetails_0_status</th>\n",
       "      <th>claimStatuses_statusDetails_0_statusCode</th>\n",
       "      <th>claimStatuses_statusDetails_0_effectiveDate</th>\n",
       "      <th>claimStatuses_statusDetails_0_claimAmount</th>\n",
       "      <th>claimStatuses_statusDetails_0_claimAmountUnits</th>\n",
       "      <th>claimStatuses_statusDetails_0_paymentAmount</th>\n",
       "      <th>claimStatuses_statusDetails_0_paymentAmountUnits</th>\n",
       "    </tr>\n",
       "  </thead>\n",
       "  <tbody>\n",
       "    <tr>\n",
       "      <th>0</th>\n",
       "      <td>56613480198</td>\n",
       "      <td>14012012605163</td>\n",
       "      <td>2023-07-18</td>\n",
       "      <td>2023-07-18</td>\n",
       "      <td>Response not possible - error on submitted req...</td>\n",
       "      <td>E0</td>\n",
       "      <td>Entity not approved as an electronic submitter</td>\n",
       "      <td>24</td>\n",
       "      <td>2023-09-20</td>\n",
       "      <td>330</td>\n",
       "      <td>USD</td>\n",
       "      <td>0</td>\n",
       "      <td>USD</td>\n",
       "    </tr>\n",
       "  </tbody>\n",
       "</table>\n",
       "</div>"
      ],
      "text/plain": [
       "  claimStatuses_traceId claimStatuses_patientControlNumber  \\\n",
       "0           56613480198                     14012012605163   \n",
       "\n",
       "  claimStatuses_fromDate claimStatuses_toDate  \\\n",
       "0             2023-07-18           2023-07-18   \n",
       "\n",
       "              claimStatuses_statusDetails_0_category  \\\n",
       "0  Response not possible - error on submitted req...   \n",
       "\n",
       "  claimStatuses_statusDetails_0_categoryCode  \\\n",
       "0                                         E0   \n",
       "\n",
       "             claimStatuses_statusDetails_0_status  \\\n",
       "0  Entity not approved as an electronic submitter   \n",
       "\n",
       "  claimStatuses_statusDetails_0_statusCode  \\\n",
       "0                                       24   \n",
       "\n",
       "  claimStatuses_statusDetails_0_effectiveDate  \\\n",
       "0                                  2023-09-20   \n",
       "\n",
       "  claimStatuses_statusDetails_0_claimAmount  \\\n",
       "0                                       330   \n",
       "\n",
       "  claimStatuses_statusDetails_0_claimAmountUnits  \\\n",
       "0                                            USD   \n",
       "\n",
       "  claimStatuses_statusDetails_0_paymentAmount  \\\n",
       "0                                           0   \n",
       "\n",
       "  claimStatuses_statusDetails_0_paymentAmountUnits  \n",
       "0                                              USD  "
      ]
     },
     "execution_count": 35,
     "metadata": {},
     "output_type": "execute_result"
    }
   ],
   "source": [
    "df1"
   ]
  },
  {
   "cell_type": "code",
   "execution_count": 36,
   "id": "e2198ff8",
   "metadata": {},
   "outputs": [
    {
     "data": {
      "text/html": [
       "<div>\n",
       "<style scoped>\n",
       "    .dataframe tbody tr th:only-of-type {\n",
       "        vertical-align: middle;\n",
       "    }\n",
       "\n",
       "    .dataframe tbody tr th {\n",
       "        vertical-align: top;\n",
       "    }\n",
       "\n",
       "    .dataframe thead th {\n",
       "        text-align: right;\n",
       "    }\n",
       "</style>\n",
       "<table border=\"1\" class=\"dataframe\">\n",
       "  <thead>\n",
       "    <tr style=\"text-align: right;\">\n",
       "      <th></th>\n",
       "      <th>lastName</th>\n",
       "      <th>firstName</th>\n",
       "      <th>npi</th>\n",
       "    </tr>\n",
       "  </thead>\n",
       "  <tbody>\n",
       "    <tr>\n",
       "      <th>0</th>\n",
       "      <td>LEON</td>\n",
       "      <td>RENE A</td>\n",
       "      <td>1639255896</td>\n",
       "    </tr>\n",
       "  </tbody>\n",
       "</table>\n",
       "</div>"
      ],
      "text/plain": [
       "  lastName firstName         npi\n",
       "0     LEON    RENE A  1639255896"
      ]
     },
     "execution_count": 36,
     "metadata": {},
     "output_type": "execute_result"
    }
   ],
   "source": [
    "picker = CherryPicker(data)\n",
    "flat = picker['providers'].flatten().get()\n",
    "df_pro = pd.DataFrame(flat)\n",
    "df_pro.head()"
   ]
  },
  {
   "cell_type": "code",
   "execution_count": 37,
   "id": "f268a1a6",
   "metadata": {},
   "outputs": [],
   "source": [
    "df_pro_chng = df_pro.add_prefix('providers_')"
   ]
  },
  {
   "cell_type": "markdown",
   "id": "7cd5a03b",
   "metadata": {},
   "source": [
    "### table of provider "
   ]
  },
  {
   "cell_type": "code",
   "execution_count": 38,
   "id": "866d0d6c",
   "metadata": {},
   "outputs": [
    {
     "data": {
      "text/html": [
       "<div>\n",
       "<style scoped>\n",
       "    .dataframe tbody tr th:only-of-type {\n",
       "        vertical-align: middle;\n",
       "    }\n",
       "\n",
       "    .dataframe tbody tr th {\n",
       "        vertical-align: top;\n",
       "    }\n",
       "\n",
       "    .dataframe thead th {\n",
       "        text-align: right;\n",
       "    }\n",
       "</style>\n",
       "<table border=\"1\" class=\"dataframe\">\n",
       "  <thead>\n",
       "    <tr style=\"text-align: right;\">\n",
       "      <th></th>\n",
       "      <th>providers_lastName</th>\n",
       "      <th>providers_firstName</th>\n",
       "      <th>providers_npi</th>\n",
       "    </tr>\n",
       "  </thead>\n",
       "  <tbody>\n",
       "    <tr>\n",
       "      <th>0</th>\n",
       "      <td>LEON</td>\n",
       "      <td>RENE A</td>\n",
       "      <td>1639255896</td>\n",
       "    </tr>\n",
       "  </tbody>\n",
       "</table>\n",
       "</div>"
      ],
      "text/plain": [
       "  providers_lastName providers_firstName providers_npi\n",
       "0               LEON              RENE A    1639255896"
      ]
     },
     "execution_count": 38,
     "metadata": {},
     "output_type": "execute_result"
    }
   ],
   "source": [
    "df_pro_chng"
   ]
  },
  {
   "cell_type": "markdown",
   "id": "d675aea9",
   "metadata": {},
   "source": [
    "## combining"
   ]
  },
  {
   "cell_type": "code",
   "execution_count": 39,
   "id": "d6874121",
   "metadata": {},
   "outputs": [],
   "source": [
    "outdf=pd.concat([entire_df,df1,df_pro_chng], axis=1)"
   ]
  },
  {
   "cell_type": "code",
   "execution_count": 40,
   "id": "e52a56e3",
   "metadata": {},
   "outputs": [],
   "source": [
    "outdf.to_csv('combined_next.csv')"
   ]
  },
  {
   "cell_type": "code",
   "execution_count": null,
   "id": "a12fad6b",
   "metadata": {},
   "outputs": [],
   "source": []
  },
  {
   "cell_type": "markdown",
   "id": "65b448bd",
   "metadata": {},
   "source": [
    "## sample dataset"
   ]
  },
  {
   "cell_type": "code",
   "execution_count": 41,
   "id": "90205eab",
   "metadata": {},
   "outputs": [
    {
     "data": {
      "text/plain": [
       "[{'name': 'John Doe',\n",
       "  'age': 30,\n",
       "  'city': 'New York',\n",
       "  'skills': {'Python': 'Intermediate', 'R': 'Beginner'}},\n",
       " {'name': 'Jane Doe',\n",
       "  'age': 28,\n",
       "  'city': 'San Francisco',\n",
       "  'skills': {'Python': 'Advanced', 'Java': 'Intermediate'}}]"
      ]
     },
     "execution_count": 41,
     "metadata": {},
     "output_type": "execute_result"
    }
   ],
   "source": [
    "# read json\n",
    "p = Path(r'C:\\Users\\syamababum.ASCENT\\Desktop\\python code\\store1\\sample.json')\n",
    "with p.open('r', encoding='utf-8') as f:\n",
    "    data2 = json.loads(f.read())\n",
    "data2"
   ]
  },
  {
   "cell_type": "code",
   "execution_count": 42,
   "id": "5943c7e0",
   "metadata": {},
   "outputs": [
    {
     "data": {
      "text/html": [
       "<div>\n",
       "<style scoped>\n",
       "    .dataframe tbody tr th:only-of-type {\n",
       "        vertical-align: middle;\n",
       "    }\n",
       "\n",
       "    .dataframe tbody tr th {\n",
       "        vertical-align: top;\n",
       "    }\n",
       "\n",
       "    .dataframe thead th {\n",
       "        text-align: right;\n",
       "    }\n",
       "</style>\n",
       "<table border=\"1\" class=\"dataframe\">\n",
       "  <thead>\n",
       "    <tr style=\"text-align: right;\">\n",
       "      <th></th>\n",
       "      <th>name</th>\n",
       "      <th>age</th>\n",
       "      <th>city</th>\n",
       "      <th>skills.Python</th>\n",
       "      <th>skills.R</th>\n",
       "      <th>skills.Java</th>\n",
       "    </tr>\n",
       "  </thead>\n",
       "  <tbody>\n",
       "    <tr>\n",
       "      <th>0</th>\n",
       "      <td>John Doe</td>\n",
       "      <td>30</td>\n",
       "      <td>New York</td>\n",
       "      <td>Intermediate</td>\n",
       "      <td>Beginner</td>\n",
       "      <td>NaN</td>\n",
       "    </tr>\n",
       "    <tr>\n",
       "      <th>1</th>\n",
       "      <td>Jane Doe</td>\n",
       "      <td>28</td>\n",
       "      <td>San Francisco</td>\n",
       "      <td>Advanced</td>\n",
       "      <td>NaN</td>\n",
       "      <td>Intermediate</td>\n",
       "    </tr>\n",
       "  </tbody>\n",
       "</table>\n",
       "</div>"
      ],
      "text/plain": [
       "       name  age           city skills.Python  skills.R   skills.Java\n",
       "0  John Doe   30       New York  Intermediate  Beginner           NaN\n",
       "1  Jane Doe   28  San Francisco      Advanced       NaN  Intermediate"
      ]
     },
     "execution_count": 42,
     "metadata": {},
     "output_type": "execute_result"
    }
   ],
   "source": [
    "df2 = pd.json_normalize(data2)\n",
    "# create dataframe\n",
    "df2"
   ]
  },
  {
   "cell_type": "code",
   "execution_count": 43,
   "id": "90060b56",
   "metadata": {},
   "outputs": [],
   "source": [
    "# # Extract the skills data into a separate DataFrame\n",
    "# skills_data = pd.json_normalize(data2['skills'])\n",
    "\n",
    "# # Concatenate the original DataFrame with the new 'skills' DataFrame\n",
    "# flattened_data = pd.concat([data.drop(['skills'], axis=1), skills_data], axis=1)"
   ]
  },
  {
   "cell_type": "markdown",
   "id": "8b481725",
   "metadata": {},
   "source": [
    "### Complex json"
   ]
  },
  {
   "cell_type": "code",
   "execution_count": 44,
   "id": "de85cee1",
   "metadata": {},
   "outputs": [
    {
     "name": "stdout",
     "output_type": "stream",
     "text": [
      "Defaulting to user installation because normal site-packages is not writeable\n",
      "Requirement already satisfied: CherryPicker in c:\\users\\syamababum.ascent\\appdata\\roaming\\python\\python310\\site-packages (0.4.0)\n",
      "Requirement already satisfied: joblib>=0.13.0 in c:\\programdata\\anaconda3\\lib\\site-packages (from CherryPicker) (1.1.1)\n",
      "Note: you may need to restart the kernel to use updated packages.\n"
     ]
    }
   ],
   "source": [
    "pip install CherryPicker"
   ]
  },
  {
   "cell_type": "code",
   "execution_count": 45,
   "id": "29a8c60f",
   "metadata": {},
   "outputs": [
    {
     "data": {
      "text/plain": [
       "{'tickets': [{'Name': 'Liam',\n",
       "   'Location': {'City': 'Los Angeles', 'State': 'CA'},\n",
       "   'hobbies': ['Piano', 'Sports'],\n",
       "   'year': 1985,\n",
       "   'teamId': 'ATL',\n",
       "   'playerId': 'barkele01',\n",
       "   'salary': 870000},\n",
       "  {'Name': 'John',\n",
       "   'Location': {'City': 'Los Angeles', 'State': 'CA'},\n",
       "   'hobbies': ['Music', 'Running'],\n",
       "   'year': 1985,\n",
       "   'teamId': 'ATL',\n",
       "   'playerId': 'bedrost01',\n",
       "   'salary': 550000}],\n",
       " 'count': 2}"
      ]
     },
     "execution_count": 45,
     "metadata": {},
     "output_type": "execute_result"
    }
   ],
   "source": [
    "from cherrypicker import CherryPicker\n",
    "import json\n",
    "import pandas as pd\n",
    "\n",
    "with open('complexjson23.json') as file:\n",
    "    data = json.load(file)\n",
    "\n",
    "data"
   ]
  },
  {
   "cell_type": "code",
   "execution_count": 46,
   "id": "79e80f15",
   "metadata": {},
   "outputs": [],
   "source": [
    "picker = CherryPicker(data)"
   ]
  },
  {
   "cell_type": "code",
   "execution_count": 47,
   "id": "5ed6e47e",
   "metadata": {},
   "outputs": [
    {
     "data": {
      "text/plain": [
       "<CherryPickerMapping(dict)>"
      ]
     },
     "execution_count": 47,
     "metadata": {},
     "output_type": "execute_result"
    }
   ],
   "source": [
    "picker"
   ]
  },
  {
   "cell_type": "code",
   "execution_count": 48,
   "id": "062cfd11",
   "metadata": {},
   "outputs": [
    {
     "data": {
      "text/html": [
       "<div>\n",
       "<style scoped>\n",
       "    .dataframe tbody tr th:only-of-type {\n",
       "        vertical-align: middle;\n",
       "    }\n",
       "\n",
       "    .dataframe tbody tr th {\n",
       "        vertical-align: top;\n",
       "    }\n",
       "\n",
       "    .dataframe thead th {\n",
       "        text-align: right;\n",
       "    }\n",
       "</style>\n",
       "<table border=\"1\" class=\"dataframe\">\n",
       "  <thead>\n",
       "    <tr style=\"text-align: right;\">\n",
       "      <th></th>\n",
       "      <th>Name</th>\n",
       "      <th>Location_City</th>\n",
       "      <th>Location_State</th>\n",
       "      <th>hobbies_0</th>\n",
       "      <th>hobbies_1</th>\n",
       "      <th>year</th>\n",
       "      <th>teamId</th>\n",
       "      <th>playerId</th>\n",
       "      <th>salary</th>\n",
       "    </tr>\n",
       "  </thead>\n",
       "  <tbody>\n",
       "    <tr>\n",
       "      <th>0</th>\n",
       "      <td>Liam</td>\n",
       "      <td>Los Angeles</td>\n",
       "      <td>CA</td>\n",
       "      <td>Piano</td>\n",
       "      <td>Sports</td>\n",
       "      <td>1985</td>\n",
       "      <td>ATL</td>\n",
       "      <td>barkele01</td>\n",
       "      <td>870000</td>\n",
       "    </tr>\n",
       "    <tr>\n",
       "      <th>1</th>\n",
       "      <td>John</td>\n",
       "      <td>Los Angeles</td>\n",
       "      <td>CA</td>\n",
       "      <td>Music</td>\n",
       "      <td>Running</td>\n",
       "      <td>1985</td>\n",
       "      <td>ATL</td>\n",
       "      <td>bedrost01</td>\n",
       "      <td>550000</td>\n",
       "    </tr>\n",
       "  </tbody>\n",
       "</table>\n",
       "</div>"
      ],
      "text/plain": [
       "   Name Location_City Location_State hobbies_0 hobbies_1  year teamId  \\\n",
       "0  Liam   Los Angeles             CA     Piano    Sports  1985    ATL   \n",
       "1  John   Los Angeles             CA     Music   Running  1985    ATL   \n",
       "\n",
       "    playerId  salary  \n",
       "0  barkele01  870000  \n",
       "1  bedrost01  550000  "
      ]
     },
     "execution_count": 48,
     "metadata": {},
     "output_type": "execute_result"
    }
   ],
   "source": [
    "flat = picker['tickets'].flatten().get()\n",
    "df = pd.DataFrame(flat)\n",
    "df.head()"
   ]
  },
  {
   "cell_type": "code",
   "execution_count": 49,
   "id": "ca2bde95",
   "metadata": {},
   "outputs": [
    {
     "data": {
      "text/plain": [
       "[{'Name': 'Liam',\n",
       "  'Location_City': 'Los Angeles',\n",
       "  'Location_State': 'CA',\n",
       "  'hobbies_0': 'Piano',\n",
       "  'hobbies_1': 'Sports',\n",
       "  'year': 1985,\n",
       "  'teamId': 'ATL',\n",
       "  'playerId': 'barkele01',\n",
       "  'salary': 870000},\n",
       " {'Name': 'John',\n",
       "  'Location_City': 'Los Angeles',\n",
       "  'Location_State': 'CA',\n",
       "  'hobbies_0': 'Music',\n",
       "  'hobbies_1': 'Running',\n",
       "  'year': 1985,\n",
       "  'teamId': 'ATL',\n",
       "  'playerId': 'bedrost01',\n",
       "  'salary': 550000}]"
      ]
     },
     "execution_count": 49,
     "metadata": {},
     "output_type": "execute_result"
    }
   ],
   "source": [
    "flat"
   ]
  },
  {
   "cell_type": "code",
   "execution_count": 50,
   "id": "578befb9",
   "metadata": {},
   "outputs": [
    {
     "data": {
      "text/plain": [
       "{'id': '-6085811870527085593',\n",
       " 'customerId': '1470351',\n",
       " 'controlNumber': '56613480198',\n",
       " 'status': 'Complete',\n",
       " 'statusCode': '4',\n",
       " 'createdDate': '2023-09-20T06:59:43.000+00:00',\n",
       " 'updatedDate': '2023-09-20T06:59:43.000+00:00',\n",
       " 'expirationDate': '2023-09-21T05:59:43.000+00:00',\n",
       " 'fromDate': '2023-07-18T04:00:00.000+00:00',\n",
       " 'toDate': '2023-07-18T04:00:00.000+00:00',\n",
       " 'claimAmount': '330',\n",
       " 'facilityTypeCode': '11',\n",
       " 'facilityType': 'Hospital Inpatient, including Part A',\n",
       " 'frequencyTypeCode': '1',\n",
       " 'frequencyType': 'Admit thru Discharge Claim',\n",
       " 'payer': {'id': 'bcbsf', 'name': 'BCBSF'},\n",
       " 'submitter': {'lastName': 'SETHUMADHAVAN',\n",
       "  'firstName': 'BASKARAN',\n",
       "  'id': '203821'},\n",
       " 'availityTransactionId': '43578614321695193183959300018510',\n",
       " 'providers': [{'lastName': 'LEON',\n",
       "   'firstName': 'RENE A',\n",
       "   'npi': '1639255896'}],\n",
       " 'subscriber': {'firstName': 'ADRIANNA',\n",
       "  'lastName': 'THEURER',\n",
       "  'memberId': 'ZGP839803181'},\n",
       " 'patient': {'firstName': 'ADRIANNA',\n",
       "  'lastName': 'THEURER',\n",
       "  'birthDate': '1975-03-31',\n",
       "  'gender': 'Female',\n",
       "  'genderCode': 'F',\n",
       "  'accountNumber': '14012012605163',\n",
       "  'subscriberRelationship': 'Self',\n",
       "  'subscriberRelationshipCode': '18'},\n",
       " 'claimStatuses': [{'traceId': '56613480198',\n",
       "   'patientControlNumber': '14012012605163',\n",
       "   'fromDate': '2023-07-18',\n",
       "   'toDate': '2023-07-18',\n",
       "   'statusDetails': [{'category': 'Response not possible - error on submitted request data',\n",
       "     'categoryCode': 'E0',\n",
       "     'status': 'Entity not approved as an electronic submitter',\n",
       "     'statusCode': '24',\n",
       "     'effectiveDate': '2023-09-20',\n",
       "     'claimAmount': '330',\n",
       "     'claimAmountUnits': 'USD',\n",
       "     'paymentAmount': '0',\n",
       "     'paymentAmountUnits': 'USD'}]}],\n",
       " 'claimCount': '1'}"
      ]
     },
     "execution_count": 50,
     "metadata": {},
     "output_type": "execute_result"
    }
   ],
   "source": [
    "with open('data2.json') as file:\n",
    "    data = json.load(file)\n",
    "\n",
    "data"
   ]
  },
  {
   "cell_type": "code",
   "execution_count": 51,
   "id": "38a69ddc",
   "metadata": {},
   "outputs": [],
   "source": [
    "picker = CherryPicker(data)\n",
    "flat = picker['errors','nestedEntityErrors'].flatten().get()"
   ]
  },
  {
   "cell_type": "code",
   "execution_count": 52,
   "id": "2b2c2a51",
   "metadata": {},
   "outputs": [
    {
     "data": {
      "text/plain": [
       "[None, None]"
      ]
     },
     "execution_count": 52,
     "metadata": {},
     "output_type": "execute_result"
    }
   ],
   "source": [
    "flat"
   ]
  },
  {
   "cell_type": "code",
   "execution_count": 53,
   "id": "8eb322f1",
   "metadata": {},
   "outputs": [],
   "source": [
    "# df = pd.DataFrame(flat)\n",
    "# "
   ]
  },
  {
   "cell_type": "code",
   "execution_count": 55,
   "id": "92e406f2",
   "metadata": {},
   "outputs": [],
   "source": [
    "import json\n",
    "from json import dumps\n",
    "dataDictionary = {\n",
    "'hello': 'World',\n",
    "'geeks': 'forgeeks',\n",
    "'ABC': 123,\n",
    "456: 'abc',\n",
    "14000605: 1,\n",
    "'list': ['geeks', 4, 'geeks'],\n",
    "'dictionary': {'you': 'can', 'send': 'anything', 3: 1}\n",
    "}\n",
    "# dump data\n",
    "dataJSON = dumps(dataDictionary)"
   ]
  },
  {
   "cell_type": "code",
   "execution_count": 56,
   "id": "162bfc63",
   "metadata": {},
   "outputs": [
    {
     "data": {
      "text/plain": [
       "'{\"hello\": \"World\", \"geeks\": \"forgeeks\", \"ABC\": 123, \"456\": \"abc\", \"14000605\": 1, \"list\": [\"geeks\", 4, \"geeks\"], \"dictionary\": {\"you\": \"can\", \"send\": \"anything\", \"3\": 1}}'"
      ]
     },
     "execution_count": 56,
     "metadata": {},
     "output_type": "execute_result"
    }
   ],
   "source": [
    "dataJSON"
   ]
  },
  {
   "cell_type": "code",
   "execution_count": null,
   "id": "aca782ca",
   "metadata": {},
   "outputs": [],
   "source": []
  }
 ],
 "metadata": {
  "kernelspec": {
   "display_name": "Python 3 (ipykernel)",
   "language": "python",
   "name": "python3"
  },
  "language_info": {
   "codemirror_mode": {
    "name": "ipython",
    "version": 3
   },
   "file_extension": ".py",
   "mimetype": "text/x-python",
   "name": "python",
   "nbconvert_exporter": "python",
   "pygments_lexer": "ipython3",
   "version": "3.10.9"
  }
 },
 "nbformat": 4,
 "nbformat_minor": 5
}
